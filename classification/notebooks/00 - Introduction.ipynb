{
 "cells": [
  {
   "cell_type": "markdown",
   "metadata": {},
   "source": [
    "<img src='img/intro_slide.png'>"
   ]
  },
  {
   "cell_type": "markdown",
   "metadata": {},
   "source": [
    "<img src='img/intro_quote.png'>"
   ]
  },
  {
   "cell_type": "markdown",
   "metadata": {},
   "source": [
    "<img src='img/model.png'>"
   ]
  },
  {
   "cell_type": "markdown",
   "metadata": {},
   "source": [
    "# Installation requirements"
   ]
  },
  {
   "cell_type": "markdown",
   "metadata": {},
   "source": [
    "## Installing Python\n",
    "\n",
    "1. Installation through python.org\n",
    "2. Anaconda package\n",
    "3. Other packages\n",
    "\n",
    "#### Through python.org\n",
    "- You can go to this [site](https://www.python.org/) and download the python package for your operating system\n",
    "\n",
    "#### Anaconda package\n",
    "- Easier for beginners. You can download it for your operating system [here](https://www.anaconda.com/). Consists of most of the commonly used libraries\n",
    "\n",
    "#### Python Version\n",
    "- Preferably python 3\n",
    "- You can check your python version by typing the following command in the terminal\n",
    "- <font color='green'> ___> python --version___ </font> or <font color='green'> ___> python3 --version___ </font>\n",
    "- Check for your path to detect what is the default python version"
   ]
  },
  {
   "cell_type": "markdown",
   "metadata": {},
   "source": [
    "## Pip\n",
    "\n",
    "- Its a package manager for python packages\n",
    "- Install any python package using pip\n",
    "- Usually bundled with the python packages that you have installed\n",
    "- If pip is not available, you can download it by the following commands\n",
    "    - <font color='green'> ___> curl https://bootstrap.pypa.io/get-pip.py -o get-pip.py___ </font>\n",
    "    - <font color='green'> ___> python get-pip.py___ </font>\n",
    "- When you have both python 2 and python 3 in your system, pip usually would have a path of python 2 and __pip3 will correspond to python 3__\n",
    "\n",
    "#### How to install using pip\n",
    "- To install a package, say virtual environment, use the following command\n",
    "    - <font color='green'> ___> pip install virtualenv___ </font>"
   ]
  },
  {
   "cell_type": "markdown",
   "metadata": {},
   "source": [
    "## Virtual Environment\n",
    "- Useful when you don't want to install system wide packages\n",
    "- Install a virtual environment, \n",
    "    - If you have just have python & pip, install using <font color='green'>  ___> pip install virtualenv___ </font>\n",
    "- Creating a virtual environment\n",
    "    - <font color='green'> ___python -m virtualenv env___ </font>\n",
    "    - If anaconda is installed, install using <font color='green'> ___> conda create -n \"env\" python=3.6___ </font>\n",
    "    - The env is replaced with your environment name\n",
    "- Activating a virtual environment,\n",
    "    - <font color='green'> ___source env/bin/activate___ </font> --> Linux/Mac\n",
    "    - <font color='green'> ___.\\env\\Scripts\\activate___ </font> --> Windows\n",
    "    - <font color='green'> ___source activate env___ </font> --> Windows/Linux/Mac if you have installed anaconda\n",
    "    - Once activated, the prompt will change from <font color='green'> ___>___ </font> to <font color='green'> ___(env) >___ </font>\n",
    "- Confirming if the python that you are using is from the virtual environment\n",
    "    - <font color='green'> ___which python___ </font> --> It will point to a directory inside the virtual environment\n",
    "- Deactivating the virtual environment\n",
    "    - <font color='green'> ___deactivate___ </font>"
   ]
  },
  {
   "cell_type": "markdown",
   "metadata": {},
   "source": [
    "## [Jupyter Notebooks](https://jupyter.org/)\n",
    "\n",
    "- Its a web application, that runs on your browser to execute python scripts\n",
    "- Can run the python code snippets as individual components in entities called __cell__\n",
    "- Every code runs on a specific server, the kernels\n",
    "\n",
    "#### Installation\n",
    "- Install jupyter notebook using pip --> <font color='green'> ___(env) >pip install jupyter___ </font>\n",
    "\n",
    "#### Starting Jupyter Notebooks\n",
    "- Comes in two flavours\n",
    "    - Jupyter Notebook - <font color='green'> ___(env) > jupyter notebook___ </font>\n",
    "    - Jupyter Lab - <font color='green'> ___(env) > jupyter lab___ </font>\n",
    "   \n",
    "#### Connecting your notebook to the virtual environment\n",
    "- <font color='green'> ___(env) > ipython kernel install --name \"display_name\" --user___ </font>"
   ]
  },
  {
   "cell_type": "markdown",
   "metadata": {},
   "source": [
    "## Other commonly used libraries\n",
    "\n",
    "- #### [Pandas](https://pandas.pydata.org/)\n",
    "    ___(env) >pip install pandas___\n",
    "\n",
    "- #### [Numpy](http://www.numpy.org/)\n",
    "    ___(env) >pip install numpy___\n",
    "\n",
    "- #### [Scikit-learn](https://scikit-learn.org/stable/)\n",
    "    ___(env) >pip install sklearn___\n",
    "\n",
    "- #### [Matplotlib](https://matplotlib.org/)\n",
    "    ___(env) >pip install matplotlib___\n",
    "\n",
    "- #### [NLTK](https://www.nltk.org/)\n",
    "    ___(env) >pip install nltk___"
   ]
  },
  {
   "cell_type": "markdown",
   "metadata": {},
   "source": [
    "## Github repository\n",
    "#### [https://github.com/AmiiThinks/hackathon_workshop](https://github.com/AmiiThinks/hackathon_workshop)"
   ]
  },
  {
   "cell_type": "code",
   "execution_count": null,
   "metadata": {},
   "outputs": [],
   "source": []
  }
 ],
 "metadata": {
  "kernelspec": {
   "display_name": "classification",
   "language": "python",
   "name": "classification"
  },
  "language_info": {
   "codemirror_mode": {
    "name": "ipython",
    "version": 3
   },
   "file_extension": ".py",
   "mimetype": "text/x-python",
   "name": "python",
   "nbconvert_exporter": "python",
   "pygments_lexer": "ipython3",
   "version": "3.6.5"
  }
 },
 "nbformat": 4,
 "nbformat_minor": 2
}
