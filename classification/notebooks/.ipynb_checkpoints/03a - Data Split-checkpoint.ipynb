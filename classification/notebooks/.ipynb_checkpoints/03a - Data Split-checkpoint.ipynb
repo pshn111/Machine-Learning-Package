{
 "cells": [
  {
   "cell_type": "markdown",
   "metadata": {},
   "source": [
    "## Data Split"
   ]
  },
  {
   "cell_type": "code",
   "execution_count": 4,
   "metadata": {},
   "outputs": [],
   "source": [
    "\n",
    "import numpy as np\n",
    "from matplotlib import pyplot as plt\n",
    "import math"
   ]
  },
  {
   "cell_type": "markdown",
   "metadata": {},
   "source": [
    "### Read the data"
   ]
  },
  {
   "cell_type": "code",
   "execution_count": 1,
   "metadata": {},
   "outputs": [],
   "source": [
    "import pandas as pd\n",
    "df_data = pd.read_csv('../data/2d_classification.csv')"
   ]
  },
  {
   "cell_type": "code",
   "execution_count": 2,
   "metadata": {},
   "outputs": [],
   "source": [
    "data = df_data[['x','y']].values\n",
    "label = df_data['label'].values"
   ]
  },
  {
   "cell_type": "markdown",
   "metadata": {},
   "source": [
    "## Dividing the data into Train and Test data\n",
    "\n",
    "- Using the complete dataset for training, we are not generalizing the model for unseen data\n",
    "- A small set of data should be a holdout dataset on which a model can be tested\n",
    "- The __holdout set__ will say how good your model is w.r.t. unknown data - __Test Data__\n"
   ]
  },
  {
   "cell_type": "markdown",
   "metadata": {},
   "source": [
    "<img src='img/train_test_split.png'>"
   ]
  },
  {
   "cell_type": "markdown",
   "metadata": {},
   "source": [
    "- sklearn has an inbuilt method - __[train_test_split()](https://scikit-learn.org/stable/modules/generated/sklearn.model_selection.train_test_split.html)__\n",
    "- parameters \n",
    "    - data -> data to be split\n",
    "    - test_size -> between 0 & 1, denoting the ratio to be allocated for test data\n",
    "    - shuffle -> randomly shuffle before splitting the data\n",
    "    - stratify -> Try to maintain the class balance in both training and test data sets"
   ]
  },
  {
   "cell_type": "markdown",
   "metadata": {},
   "source": [
    "<font color='red'> <h3> Rule of thumb: If you do anything to alter your model, do not touch the test data </h3> \n",
    "<li>\n",
    "Do not use the test data in any form\n",
    "    </li><li>\n",
    "Do not use it for hyper-parameter tuning\n",
    "</li>\n",
    "</font>"
   ]
  },
  {
   "cell_type": "markdown",
   "metadata": {},
   "source": [
    "## Train-Test Splits "
   ]
  },
  {
   "cell_type": "code",
   "execution_count": 10,
   "metadata": {},
   "outputs": [],
   "source": [
    "from sklearn.model_selection import train_test_split\n",
    "data_train, data_test, label_train, label_test = train_test_split(data, label, test_size=0.20, \n",
    "                                                                  random_state=0, stratify=None)"
   ]
  },
  {
   "cell_type": "markdown",
   "metadata": {},
   "source": [
    "__Train-test ratio of the split data__"
   ]
  },
  {
   "cell_type": "code",
   "execution_count": 13,
   "metadata": {},
   "outputs": [
    {
     "name": "stdout",
     "output_type": "stream",
     "text": [
      "Complete data: (100, 2)\n",
      "Labels distribution Counter({1: 50, 0: 50})\n",
      "Train Data: (80, 2) Test Data: (20, 2)\n"
     ]
    }
   ],
   "source": [
    "print('Complete data:', data.shape)\n",
    "print('Labels distribution', Counter(label))\n",
    "print('Train Data:', data_train.shape, 'Test Data:', data_test.shape)"
   ]
  },
  {
   "cell_type": "markdown",
   "metadata": {},
   "source": [
    "__How the data is split__"
   ]
  },
  {
   "cell_type": "code",
   "execution_count": 14,
   "metadata": {},
   "outputs": [
    {
     "name": "stdout",
     "output_type": "stream",
     "text": [
      "Training Data split Counter({0: 42, 1: 38})\n",
      "Testing Data split Counter({1: 12, 0: 8})\n"
     ]
    }
   ],
   "source": [
    "from collections import Counter\n",
    "print('Training Data split', Counter(label_train))\n",
    "print('Testing Data split', Counter(label_test))"
   ]
  },
  {
   "cell_type": "markdown",
   "metadata": {},
   "source": [
    "### Stratified split\n",
    "- Used to make sure that the class imbalance doesn't affect the distribution of class labels in the train-test data split"
   ]
  },
  {
   "cell_type": "markdown",
   "metadata": {},
   "source": [
    "<img src='img/stratified_split.png'>"
   ]
  },
  {
   "cell_type": "code",
   "execution_count": 15,
   "metadata": {},
   "outputs": [
    {
     "name": "stdout",
     "output_type": "stream",
     "text": [
      "Complete data: (100, 2)\n",
      "Labels distribution Counter({1: 50, 0: 50})\n",
      "Train Data: (80, 2) Test Data: (20, 2)\n",
      "Training Data split Counter({1: 40, 0: 40})\n",
      "Testing Data split Counter({1: 10, 0: 10})\n"
     ]
    }
   ],
   "source": [
    "from sklearn.model_selection import train_test_split\n",
    "data_train, data_test, label_train, label_test = train_test_split(data, label, test_size=0.20, \n",
    "                                                                  random_state=0, stratify=label)\n",
    "\n",
    "print('Complete data:', data.shape)\n",
    "print('Labels distribution', Counter(label))\n",
    "print('Train Data:', data_train.shape, 'Test Data:', data_test.shape)\n",
    "\n",
    "from collections import Counter\n",
    "print('Training Data split', Counter(label_train))\n",
    "print('Testing Data split', Counter(label_test))"
   ]
  },
  {
   "cell_type": "markdown",
   "metadata": {},
   "source": [
    "## Improving the model with multiple iterations"
   ]
  },
  {
   "cell_type": "markdown",
   "metadata": {},
   "source": [
    "<img src='img/train_test_validation.png'>"
   ]
  },
  {
   "cell_type": "markdown",
   "metadata": {},
   "source": [
    "## 1.Random Sampling\n",
    "- Sample a data multiple time with a certain ratio (example: 80% of the data is randomly sampled)\n",
    "- Iterate the process again for n-iterations with replacement\n",
    "- Since it is random sampling, doesn't not guarantee that each data point was tested"
   ]
  },
  {
   "cell_type": "markdown",
   "metadata": {},
   "source": [
    "## 2. Cross-Validation"
   ]
  },
  {
   "cell_type": "markdown",
   "metadata": {},
   "source": [
    "### a. k-fold cross validation\n",
    "- Divide the dataset into ___k___ subsets\n",
    "- Select a subset, use that as the test data and the remaining as the train data\n",
    "- Repeat this for k iterations, so that all the subsets are used as test data"
   ]
  },
  {
   "cell_type": "markdown",
   "metadata": {},
   "source": [
    "<img src='img/train_to_subsets.png'>"
   ]
  },
  {
   "cell_type": "markdown",
   "metadata": {},
   "source": [
    "<img src='img/k_fold_cv.png'>"
   ]
  },
  {
   "cell_type": "markdown",
   "metadata": {},
   "source": [
    "### b. Leave-one-out CV\n",
    "\n",
    "- Set the number of folds to the number of training instances\n",
    "- Each iteration, train on the complete dataset except one\n",
    "- No random subsampling\n",
    "- Computationally expensive - n-iterations\n"
   ]
  },
  {
   "cell_type": "code",
   "execution_count": null,
   "metadata": {},
   "outputs": [],
   "source": []
  }
 ],
 "metadata": {
  "kernelspec": {
   "display_name": "classification",
   "language": "python",
   "name": "classification"
  },
  "language_info": {
   "codemirror_mode": {
    "name": "ipython",
    "version": 3
   },
   "file_extension": ".py",
   "mimetype": "text/x-python",
   "name": "python",
   "nbconvert_exporter": "python",
   "pygments_lexer": "ipython3",
   "version": "3.6.5"
  }
 },
 "nbformat": 4,
 "nbformat_minor": 2
}
